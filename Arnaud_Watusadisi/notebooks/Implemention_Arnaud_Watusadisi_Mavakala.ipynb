{
  "nbformat": 4,
  "nbformat_minor": 0,
  "metadata": {
    "colab": {
      "name": "Implemention_Arnaud_Watusadisi_Mavakala.ipynb",
      "provenance": [],
      "collapsed_sections": []
    },
    "kernelspec": {
      "display_name": "Python 3",
      "language": "python",
      "name": "python3"
    },
    "language_info": {
      "codemirror_mode": {
        "name": "ipython",
        "version": 3
      },
      "file_extension": ".py",
      "mimetype": "text/x-python",
      "name": "python",
      "nbconvert_exporter": "python",
      "pygments_lexer": "ipython3",
      "version": "3.8.5"
    }
  },
  "cells": [
    {
      "cell_type": "code",
      "metadata": {
        "id": "avDvjj0j05zf",
        "colab": {
          "base_uri": "https://localhost:8080/"
        },
        "outputId": "2330f55b-8426-45bd-e5ef-ea3a13857936"
      },
      "source": [
        "from google.colab import drive\n",
        "drive.mount('/content/drive')"
      ],
      "execution_count": 1,
      "outputs": [
        {
          "output_type": "stream",
          "text": [
            "Mounted at /content/drive\n"
          ],
          "name": "stdout"
        }
      ]
    },
    {
      "cell_type": "code",
      "metadata": {
        "colab": {
          "base_uri": "https://localhost:8080/"
        },
        "id": "kXTzdiTrqFOa",
        "outputId": "637603a6-475b-4eb2-c9b8-a066acd35470"
      },
      "source": [
        "cd /content/drive/MyDrive/mongodb_MapReduce/"
      ],
      "execution_count": 2,
      "outputs": [
        {
          "output_type": "stream",
          "text": [
            "/content/drive/MyDrive/mongodb_MapReduce\n"
          ],
          "name": "stdout"
        }
      ]
    },
    {
      "cell_type": "code",
      "metadata": {
        "id": "FPGLI9uXp-lD"
      },
      "source": [
        "import torch as torch\n",
        "import dlc_practical_prologue as prologue\n",
        "import progressbar\n",
        "from dlc_practical_prologue import *\n",
        "import matplotlib.pyplot as plt\n",
        "import numpy as np\n",
        "import math"
      ],
      "execution_count": 12,
      "outputs": []
    },
    {
      "cell_type": "code",
      "metadata": {
        "colab": {
          "base_uri": "https://localhost:8080/"
        },
        "id": "7JvpRMajp-lO",
        "outputId": "125cafcd-b16c-4152-d005-b1c73456f3d1"
      },
      "source": [
        "train_input, train_target, test_input, test_target = load_data(cifar = True, one_hot_labels =True, normalize =True, flatten = True)"
      ],
      "execution_count": 4,
      "outputs": [
        {
          "output_type": "stream",
          "text": [
            "* Using CIFAR\n",
            "Files already downloaded and verified\n",
            "Files already downloaded and verified\n",
            "** Reduce the data-set (use --full for the full thing)\n",
            "** Use 1000 train and 1000 test samples\n"
          ],
          "name": "stdout"
        }
      ]
    },
    {
      "cell_type": "code",
      "metadata": {
        "colab": {
          "base_uri": "https://localhost:8080/"
        },
        "id": "-p1dMdxAp-lP",
        "outputId": "074730f6-14b8-4dca-aa0c-fadcaaaced79"
      },
      "source": [
        " train_input.shape"
      ],
      "execution_count": 65,
      "outputs": [
        {
          "output_type": "execute_result",
          "data": {
            "text/plain": [
              "torch.Size([1000, 3072])"
            ]
          },
          "metadata": {},
          "execution_count": 65
        }
      ]
    },
    {
      "cell_type": "code",
      "metadata": {
        "colab": {
          "base_uri": "https://localhost:8080/"
        },
        "id": "WPp9H4pOFtGZ",
        "outputId": "68679929-ea7b-4c3b-eaea-bdc4a8f82091"
      },
      "source": [
        " test_input.shape"
      ],
      "execution_count": 63,
      "outputs": [
        {
          "output_type": "execute_result",
          "data": {
            "text/plain": [
              "torch.Size([1000, 3072])"
            ]
          },
          "metadata": {},
          "execution_count": 63
        }
      ]
    },
    {
      "cell_type": "code",
      "metadata": {
        "id": "lHEZ2ZU2z5qH"
      },
      "source": [
        "def loss(v,t):\n",
        "  return torch.sum((t - v).pow(2))"
      ],
      "execution_count": 6,
      "outputs": []
    },
    {
      "cell_type": "code",
      "metadata": {
        "id": "2iPR7RS1z7WH"
      },
      "source": [
        "def dloss(v, t):\n",
        "  return  - 2 * (t - v)"
      ],
      "execution_count": 7,
      "outputs": []
    },
    {
      "cell_type": "code",
      "metadata": {
        "id": "CLS4CFdS01KU"
      },
      "source": [
        "def compute_error(pred,target):\n",
        "    pred_ones = torch.argmax(pred, dim=1)\n",
        "    target_ones = torch.nonzero(target)[:, 1]\n",
        "    return ((pred_ones != target_ones).sum().item() / target.shape[0])"
      ],
      "execution_count": 8,
      "outputs": []
    },
    {
      "cell_type": "markdown",
      "metadata": {
        "id": "SGngkrSDp-lQ"
      },
      "source": [
        "## Activation function"
      ]
    },
    {
      "cell_type": "markdown",
      "metadata": {
        "id": "Kew1imhbzr6w"
      },
      "source": [
        "## 1. Uni-Polar Sigmoid Function"
      ]
    },
    {
      "cell_type": "code",
      "metadata": {
        "id": "iIqXiONGD8ia"
      },
      "source": [
        "def sigmoid(x):\n",
        "  s=1/(1+torch.exp(-x))\n",
        "  return s"
      ],
      "execution_count": 9,
      "outputs": []
    },
    {
      "cell_type": "code",
      "metadata": {
        "id": "ByHS6-WpD8la"
      },
      "source": [
        "def dsigmoid(x):\n",
        "  s=1/(1+torch.exp(-x))\n",
        "  ds=s*(1-s)  \n",
        "  return ds"
      ],
      "execution_count": 10,
      "outputs": []
    },
    {
      "cell_type": "code",
      "metadata": {
        "colab": {
          "base_uri": "https://localhost:8080/",
          "height": 279
        },
        "id": "TavkGatMzONc",
        "outputId": "cbcd12cb-4727-43d1-aa2b-b38e9a83fad2"
      },
      "source": [
        "x = np.linspace(-10, 10, 100)\n",
        "z1 = 1/(1 + np.exp(-x))\n",
        "  \n",
        "plt.plot(x, z)\n",
        "plt.xlabel(\"x\")\n",
        "plt.ylabel(\"Uni-Polar Sigmoid(X)\")\n",
        "  \n",
        "plt.show()"
      ],
      "execution_count": 13,
      "outputs": [
        {
          "output_type": "display_data",
          "data": {
            "image/png": "[encoded data removed]",
            "text/plain": [
              "<Figure size 432x288 with 1 Axes>"
            ]
          },
          "metadata": {
            "needs_background": "light"
          }
        }
      ]
    },
    {
      "cell_type": "code",
      "metadata": {
        "id": "FTOzb8smzy-H"
      },
      "source": [
        "class Neural_Network1:\n",
        "  def __init__(self, hidden_size, in_size=3072, out_size=10, lr=0.001, std=1e-9):\n",
        "    self.W1 = torch.randn((in_size, hidden_size)).normal_(0, std)\n",
        "    self.b1 = torch.randn((1,hidden_size)).normal_(0, std)\n",
        "    self.W2 = torch.randn((hidden_size,out_size)).normal_(0, std)\n",
        "    self.b2 = torch.randn((1,out_size)).normal_(0, std)\n",
        "\n",
        "    self.dW1 = torch.zeros((in_size, hidden_size))\n",
        "    self.db1 = torch.zeros((1,hidden_size))\n",
        "    self.dW2 = torch.zeros((hidden_size,out_size))\n",
        "    self.db2 = torch.zeros((1,out_size))\n",
        "\n",
        "    self.lr = lr\n",
        "\n",
        "  def forward(self,x):\n",
        "    x_1 = x @ self.W1 + self.b1\n",
        "    s_1 = sigmoid(x_1)\n",
        "    x_2 = s_1 @ self.W2 + self.b2\n",
        "    out =  sigmoid(x_2)\n",
        "    return x_1, s_1, x_2, out\n",
        "\n",
        "  def backward_pass(self, t, x, s1, x1,s2, x2):\n",
        "    self.dW2 = s1.T @ (dloss(s2,t) * dsigmoid(x2)) \n",
        "    self.db2 = dloss(s2,t) * dsigmoid(x2)\n",
        "    self.dW1 = x.T @ ((dloss(s2,t)*dsigmoid(x2)@ self.W2.T) * dsigmoid(x1))\n",
        "    self.db1 = (dloss(s2,t)*dsigmoid(x2)@ self.W2.T) * dsigmoid(x1)\n",
        "\n",
        "    self.W1 -= self.lr * self.dW1\n",
        "    self.b1 -= self.lr * self.db1\n",
        "    self.W2 -= self.lr * self.dW2\n",
        "    self.b2 -= self.lr * self.db2\n",
        "\n",
        "\n",
        "  def zero_gradient(self):\n",
        "    self.dW1.zero_()\n",
        "    self.db1.zero_()\n",
        "    self.dW2.zero_()\n",
        "    self.db2.zero_()\n",
        "\n",
        "\n",
        "  def train(self, X, y,test_input,test_target,  epoch):\n",
        "    test_losses1 = []\n",
        "    train_losses1 = []\n",
        "    for i in range(epoch):\n",
        "      epoch_loss = 0.0\n",
        "      for j, data in enumerate(X):\n",
        "        ## forward\n",
        "        data = data[None,...]\n",
        "        target = y[j][None,...]\n",
        "        x_1, s_1, x_2, out = self.forward(data)\n",
        "\n",
        "        t = target  \n",
        "        epoch_loss += loss(out, t).item() ## loss\n",
        "\n",
        "        ## backward\n",
        "        self.backward_pass(t, data, s_1, x_1, out, x_2)\n",
        "\n",
        "        ## zero gradient\n",
        "        self.zero_gradient()\n",
        "\n",
        "      if i % 100 == 0:\n",
        "        test_loss = loss(model1.forward(test_input)[-1], test_target)\n",
        "        test_losses1.append(test_loss)\n",
        "        train_loss = loss(model1.forward(train_input)[-1], train_target)\n",
        "        train_losses1.append(train_loss)\n",
        "        print(f'Epoch {i} Train Loss: {epoch_loss/ X.shape[0]} and Test loss: {test_loss / test_input.shape[0]}')\n",
        "    return (train_losses1, test_losses1)\n",
        "\n",
        "  def accuracy(self,pred,target):\n",
        "    pred_ones = torch.argmax(pred, dim=1)\n",
        "    target_ones = torch.nonzero(target)[:, 1]\n",
        "    return ((pred_ones == target_ones).sum().item() / target.shape[0])"
      ],
      "execution_count": 90,
      "outputs": []
    },
    {
      "cell_type": "code",
      "metadata": {
        "colab": {
          "base_uri": "https://localhost:8080/"
        },
        "id": "rAr-vTvHzzCZ",
        "outputId": "07e69aa4-1036-4609-bdf0-e74f70a61919"
      },
      "source": [
        "model1 = Neural_Network1(10,in_size=3072,out_size=10,lr=0.001)\n",
        "train_losses1, test_losses1 = model1.train(train_input, train_target, test_input, test_target, epoch=500)"
      ],
      "execution_count": 91,
      "outputs": [
        {
          "output_type": "stream",
          "text": [
            "Epoch 0 Train Loss: 1.9129249997138977 and Test loss: 1.4608227014541626\n",
            "Epoch 100 Train Loss: 0.8894743906855583 and Test loss: 0.890497624874115\n",
            "Epoch 200 Train Loss: 0.8146353899538517 and Test loss: 0.8434203863143921\n",
            "Epoch 300 Train Loss: 0.7021716433465481 and Test loss: 0.8270214796066284\n",
            "Epoch 400 Train Loss: 0.5713932524621487 and Test loss: 0.8391431570053101\n"
          ],
          "name": "stdout"
        }
      ]
    },
    {
      "cell_type": "code",
      "metadata": {
        "colab": {
          "base_uri": "https://localhost:8080/"
        },
        "id": "1pTg30KLzzFm",
        "outputId": "ad1242e0-d99f-497e-c1e2-8e6e819b464c"
      },
      "source": [
        "pred1 = model1.forward(train_input)[-1]\n",
        "model1.accuracy(pred1, train_target)"
      ],
      "execution_count": 92,
      "outputs": [
        {
          "output_type": "execute_result",
          "data": {
            "text/plain": [
              "0.699"
            ]
          },
          "metadata": {},
          "execution_count": 92
        }
      ]
    },
    {
      "cell_type": "code",
      "metadata": {
        "colab": {
          "base_uri": "https://localhost:8080/"
        },
        "id": "wdWuOsYVzzIc",
        "outputId": "b18a585f-5015-491e-81c3-380d3d3952b0"
      },
      "source": [
        "pred2 = model1.forward(test_input)[-1]\n",
        "model1.accuracy(pred2, test_target)"
      ],
      "execution_count": 93,
      "outputs": [
        {
          "output_type": "execute_result",
          "data": {
            "text/plain": [
              "0.296"
            ]
          },
          "metadata": {},
          "execution_count": 93
        }
      ]
    },
    {
      "cell_type": "code",
      "metadata": {
        "colab": {
          "base_uri": "https://localhost:8080/",
          "height": 435
        },
        "id": "PW34H3jqzzLX",
        "outputId": "992a9ffe-be0d-4fb0-f386-20f2e297d561"
      },
      "source": [
        "import matplotlib.pyplot as plt\n",
        "\n",
        "plt.figure(figsize=(14,10), dpi = 50)\n",
        "plt.plot(train_losses1)\n",
        "plt.plot(test_losses1)\n",
        "plt.legend([\"Train Loss\",\"Test Loss\"])\n",
        "plt.xlabel(\"Number of Iteration\")\n",
        "plt.ylabel(\"Loss\")\n",
        "plt.title(\"Train Loss vs Test Loss\")\n",
        "plt.show()"
      ],
      "execution_count": 94,
      "outputs": [
        {
          "output_type": "display_data",
          "data": {
            "image/png": "[encoded data removed]",
            "text/plain": [
              "<Figure size 700x500 with 1 Axes>"
            ]
          },
          "metadata": {
            "needs_background": "light"
          }
        }
      ]
    },
    {
      "cell_type": "code",
      "metadata": {
        "id": "1CGQTjtmzzqu"
      },
      "source": [
        ""
      ],
      "execution_count": null,
      "outputs": []
    },
    {
      "cell_type": "markdown",
      "metadata": {
        "id": "-uG7ExlT1Tb3"
      },
      "source": [
        "## 2. Bi-polar sigmoid function"
      ]
    },
    {
      "cell_type": "code",
      "metadata": {
        "id": "jSt0Y8A-D8oV"
      },
      "source": [
        "def B_sigmoid(x):\n",
        "  s=(1-torch.exp(-x))/(1+torch.exp(-x))\n",
        "  return s"
      ],
      "execution_count": 125,
      "outputs": []
    },
    {
      "cell_type": "code",
      "metadata": {
        "id": "pE2vxD5YEEbo"
      },
      "source": [
        "def dB_sigmoid(x):\n",
        "  s=(2*torch.exp(-x))/((1+torch.exp(-x)).pow(2))\n",
        "  ds= (s*(1-s))  \n",
        "  return ds"
      ],
      "execution_count": 130,
      "outputs": []
    },
    {
      "cell_type": "code",
      "metadata": {
        "colab": {
          "base_uri": "https://localhost:8080/",
          "height": 279
        },
        "id": "J6W8qYjlzQ9F",
        "outputId": "6f6e36ce-e007-4464-e342-a0d3c8ae75fb"
      },
      "source": [
        "z2 = (1-np.exp(-x))/(1+np.exp(-x))\n",
        "  \n",
        "plt.plot(x, z2)\n",
        "plt.xlabel(\"x\")\n",
        "plt.ylabel(\"Bi-polar sigmoid(X)\")\n",
        "  \n",
        "plt.show()"
      ],
      "execution_count": 131,
      "outputs": [
        {
          "output_type": "display_data",
          "data": {
            "image/png": "[encoded data removed]",
            "text/plain": [
              "<Figure size 432x288 with 1 Axes>"
            ]
          },
          "metadata": {
            "needs_background": "light"
          }
        }
      ]
    },
    {
      "cell_type": "code",
      "metadata": {
        "id": "YYYH3_gE1bSt"
      },
      "source": [
        "class Neural_Network2:\n",
        "  def __init__(self, hidden_size, in_size=3072, out_size=10, lr=0.001, std=1e-9):\n",
        "    self.W1 = torch.randn((in_size, hidden_size)).normal_(0, std)\n",
        "    self.b1 = torch.randn((1,hidden_size)).normal_(0, std)\n",
        "    self.W2 = torch.randn((hidden_size,out_size)).normal_(0, std)\n",
        "    self.b2 = torch.randn((1,out_size)).normal_(0, std)\n",
        "\n",
        "    self.dW1 = torch.zeros((in_size, hidden_size))\n",
        "    self.db1 = torch.zeros((1,hidden_size))\n",
        "    self.dW2 = torch.zeros((hidden_size,out_size))\n",
        "    self.db2 = torch.zeros((1,out_size))\n",
        "\n",
        "    self.lr = lr\n",
        "\n",
        "  def forward(self,x):\n",
        "    x_1 = x @ self.W1 + self.b1\n",
        "    s_1 = B_sigmoid(x_1)\n",
        "    x_2 = s_1 @ self.W2 + self.b2\n",
        "    out =  B_sigmoid(x_2)\n",
        "    return x_1, s_1, x_2, out\n",
        "\n",
        "  def backward_pass(self, t, x, s1, x1,s2, x2):\n",
        "    self.dW2 = s1.T @ (dloss(s2,t) * dB_sigmoid(x2)) \n",
        "    self.db2 = dloss(s2,t) * dB_sigmoid(x2)\n",
        "    self.dW1 = x.T @ ((dloss(s2,t)*dB_sigmoid(x2)@ self.W2.T) * dB_sigmoid(x1))\n",
        "    self.db1 = (dloss(s2,t)*dB_sigmoid(x2)@ self.W2.T) * dB_sigmoid(x1)\n",
        "\n",
        "    self.W1 -= self.lr * self.dW1\n",
        "    self.b1 -= self.lr * self.db1\n",
        "    self.W2 -= self.lr * self.dW2\n",
        "    self.b2 -= self.lr * self.db2\n",
        "\n",
        "\n",
        "  def zero_gradient(self):\n",
        "    self.dW1.zero_()\n",
        "    self.db1.zero_()\n",
        "    self.dW2.zero_()\n",
        "    self.db2.zero_()\n",
        "\n",
        "\n",
        "  def train(self, X, y,test_input,test_target,  epoch):\n",
        "    test_losses2 = []\n",
        "    train_losses2 = []\n",
        "    for i in range(epoch):\n",
        "      epoch_loss = 0.0\n",
        "      for j, data in enumerate(X):\n",
        "        ## forward\n",
        "        data = data[None,...]\n",
        "        target = y[j][None,...]\n",
        "        x_1, s_1, x_2, out = self.forward(data)\n",
        "\n",
        "        t = target  \n",
        "        epoch_loss += loss(out, t).item() ## loss\n",
        "\n",
        "        ## backward\n",
        "        self.backward_pass(t, data, s_1, x_1, out, x_2)\n",
        "\n",
        "        ## zero gradient\n",
        "        self.zero_gradient()\n",
        "\n",
        "      if i % 100 == 0:\n",
        "        test_loss = loss(model1.forward(test_input)[-1], test_target)\n",
        "        test_losses1.append(test_loss)\n",
        "        train_loss = loss(model1.forward(train_input)[-1], train_target)\n",
        "        train_losses1.append(train_loss)\n",
        "        print(f'Epoch {i} Train Loss: {epoch_loss/ X.shape[0]} and Test loss: {test_loss / test_input.shape[0]}')\n",
        "    return (train_losses1, test_losses1)\n",
        "\n",
        "  def accuracy(self,pred,target):\n",
        "    pred_ones = torch.argmax(pred, dim=1)\n",
        "    target_ones = torch.nonzero(target)[:, 1]\n",
        "    return ((pred_ones == target_ones).sum().item() / target.shape[0])"
      ],
      "execution_count": 137,
      "outputs": []
    },
    {
      "cell_type": "code",
      "metadata": {
        "colab": {
          "base_uri": "https://localhost:8080/"
        },
        "id": "CPvZruGu1bWD",
        "outputId": "ae454adf-9f9f-491a-d8a4-cf5c60b706e0"
      },
      "source": [
        "model2 = Neural_Network2(10,in_size=3072,out_size=10,lr=0.001)\n",
        "train_losses2, test_losses2 = model2.train(train_input, train_target, test_input, test_target, epoch=500)"
      ],
      "execution_count": 138,
      "outputs": [
        {
          "output_type": "stream",
          "text": [
            "Epoch 0 Train Loss: 0.9788265027999878 and Test loss: 0.8597517013549805\n",
            "Epoch 100 Train Loss: 0.7106799112856388 and Test loss: 0.8597517013549805\n",
            "Epoch 200 Train Loss: 0.4800713755860925 and Test loss: 0.8597517013549805\n",
            "Epoch 300 Train Loss: 0.32029196128621695 and Test loss: 0.8597517013549805\n",
            "Epoch 400 Train Loss: 0.2323376976214349 and Test loss: 0.8597517013549805\n"
          ],
          "name": "stdout"
        }
      ]
    },
    {
      "cell_type": "code",
      "metadata": {
        "colab": {
          "base_uri": "https://localhost:8080/"
        },
        "id": "gx9Dzxhm1bZM",
        "outputId": "a470db44-20f5-40a0-cdf8-768c76a3e7a1"
      },
      "source": [
        "pred2 = model2.forward(train_input)[-1]\n",
        "model2.accuracy(pred2, train_target)"
      ],
      "execution_count": 139,
      "outputs": [
        {
          "output_type": "execute_result",
          "data": {
            "text/plain": [
              "0.994"
            ]
          },
          "metadata": {},
          "execution_count": 139
        }
      ]
    },
    {
      "cell_type": "code",
      "metadata": {
        "colab": {
          "base_uri": "https://localhost:8080/"
        },
        "id": "yar2kTfv1bbk",
        "outputId": "64ac966f-e8f6-43c8-f281-27a979eb2015"
      },
      "source": [
        "pred2 = model2.forward(test_input)[-1]\n",
        "model2.accuracy(pred2, test_target)"
      ],
      "execution_count": 140,
      "outputs": [
        {
          "output_type": "execute_result",
          "data": {
            "text/plain": [
              "0.189"
            ]
          },
          "metadata": {},
          "execution_count": 140
        }
      ]
    },
    {
      "cell_type": "code",
      "metadata": {
        "colab": {
          "base_uri": "https://localhost:8080/",
          "height": 435
        },
        "id": "OFQcqG4q1bfA",
        "outputId": "db6a75ce-8dde-44bb-a038-3ead6238e597"
      },
      "source": [
        "import matplotlib.pyplot as plt\n",
        "\n",
        "plt.figure(figsize=(14,10), dpi = 50)\n",
        "plt.plot(train_losses2)\n",
        "plt.plot(test_losses2)\n",
        "plt.legend([\"Train Loss\",\"Test Loss\"])\n",
        "plt.xlabel(\"Number of Iteration\")\n",
        "plt.ylabel(\"Loss\")\n",
        "plt.title(\"Train Loss vs Test Loss\")\n",
        "plt.show()"
      ],
      "execution_count": 141,
      "outputs": [
        {
          "output_type": "display_data",
          "data": {
            "image/png": "[encoded data removed]",
            "text/plain": [
              "<Figure size 700x500 with 1 Axes>"
            ]
          },
          "metadata": {
            "needs_background": "light"
          }
        }
      ]
    },
    {
      "cell_type": "markdown",
      "metadata": {
        "id": "nMYB46XS3L4j"
      },
      "source": [
        "## 3. Hyperbolic Tangent Function"
      ]
    },
    {
      "cell_type": "code",
      "metadata": {
        "id": "P8akRmMh1blf"
      },
      "source": [
        "def sigma(x):\n",
        "  return torch.tanh(x)"
      ],
      "execution_count": 142,
      "outputs": []
    },
    {
      "cell_type": "code",
      "metadata": {
        "id": "ihe_9u7a3R44"
      },
      "source": [
        "def dsigma(x):\n",
        "  return 1 - torch.tanh(x)**2"
      ],
      "execution_count": 143,
      "outputs": []
    },
    {
      "cell_type": "code",
      "metadata": {
        "colab": {
          "base_uri": "https://localhost:8080/",
          "height": 279
        },
        "id": "OlRH3xETzXk6",
        "outputId": "4632bdab-3791-4147-bd7f-0632b7e11459"
      },
      "source": [
        "z3 = (np.exp(x)-np.exp(-x))/(np.exp(x)+np.exp(-x))\n",
        "\n",
        "plt.plot(x, z3)\n",
        "plt.xlabel(\"x\")\n",
        "plt.ylabel(\"Tanh(X)\")\n",
        "  \n",
        "plt.show()"
      ],
      "execution_count": 144,
      "outputs": [
        {
          "output_type": "display_data",
          "data": {
            "image/png": "[encoded data removed]",
            "text/plain": [
              "<Figure size 432x288 with 1 Axes>"
            ]
          },
          "metadata": {
            "needs_background": "light"
          }
        }
      ]
    },
    {
      "cell_type": "code",
      "metadata": {
        "id": "Hbb2P3Fx5wuR"
      },
      "source": [
        "class Neural_Network3:\n",
        "  def __init__(self, hidden_size, in_size=3072, out_size=10, lr=0.01, std=1e-9):\n",
        "    self.W1 = torch.randn((in_size, hidden_size)).normal_(0, std)\n",
        "    self.b1 = torch.randn((1,hidden_size)).normal_(0, std)\n",
        "    self.W2 = torch.randn((hidden_size,out_size)).normal_(0, std)\n",
        "    self.b2 = torch.randn((1,out_size)).normal_(0, std)\n",
        "\n",
        "    self.dW1 = torch.zeros((in_size, hidden_size))\n",
        "    self.db1 = torch.zeros((1,hidden_size))\n",
        "    self.dW2 = torch.zeros((hidden_size,out_size))\n",
        "    self.db2 = torch.zeros((1,out_size))\n",
        "\n",
        "    self.lr = lr\n",
        "\n",
        "  def forward(self,x):\n",
        "    x_1 = x @ self.W1 + self.b1\n",
        "    s_1 = sigma(x_1)\n",
        "    x_2 = s_1 @ self.W2 + self.b2\n",
        "    out =  sigma(x_2)\n",
        "    return x_1, s_1, x_2, out\n",
        "\n",
        "  def backward_pass(self, t, x, s1, x1,s2, x2):\n",
        "    self.dW2 = s1.T @ (dloss(s2,t) * dsigma(x2)) \n",
        "    self.db2 = dloss(s2,t) * dsigma(x2)\n",
        "    self.dW1 = x.T @ ((dloss(s2,t)*dsigma(x2)@ self.W2.T) * dsigma(x1))\n",
        "    self.db1 = (dloss(s2,t)*dsigma(x2)@ self.W2.T) * dsigma(x1)\n",
        "\n",
        "    self.W1 -= self.lr * self.dW1\n",
        "    self.b1 -= self.lr * self.db1\n",
        "    self.W2 -= self.lr * self.dW2\n",
        "    self.b2 -= self.lr * self.db2\n",
        "\n",
        "\n",
        "  def zero_gradient(self):\n",
        "    self.dW1.zero_()\n",
        "    self.db1.zero_()\n",
        "    self.dW2.zero_()\n",
        "    self.db2.zero_()\n",
        "\n",
        "\n",
        "  def train(self, X, y,test_input,test_target,  epoch):\n",
        "    test_losses3 = []\n",
        "    train_losses3 = []\n",
        "    for i in range(epoch):\n",
        "      epoch_loss = 0.0\n",
        "      for j, data in enumerate(X):\n",
        "        ## forward\n",
        "        data = data[None,...]\n",
        "        target = y[j][None,...]\n",
        "        x_1, s_1, x_2, out = self.forward(data)\n",
        "\n",
        "        t = target \n",
        "        epoch_loss += loss(out, t).item() ## loss\n",
        "\n",
        "        ## backward\n",
        "        self.backward_pass(t, data, s_1, x_1, out, x_2)\n",
        "\n",
        "        ## zero gradient\n",
        "        self.zero_gradient()\n",
        "\n",
        "      if i % 100 == 0:\n",
        "        test_loss = loss(model3.forward(test_input)[-1], test_target)\n",
        "        test_losses1.append(test_loss)\n",
        "        train_loss = loss(model3.forward(train_input)[-1], train_target)\n",
        "        train_losses1.append(train_loss)\n",
        "        print(f'Epoch {i} Train Loss: {epoch_loss/ X.shape[0]} and Test loss: {test_loss / test_input.shape[0]}')\n",
        "    return (train_losses1, test_losses1)\n",
        "\n",
        "  def accuracy(self,pred,target):\n",
        "    pred_ones = torch.argmax(pred, dim=1)\n",
        "    target_ones = torch.nonzero(target)[:, 1]\n",
        "    return ((pred_ones == target_ones).sum().item() / target.shape[0])"
      ],
      "execution_count": 150,
      "outputs": []
    },
    {
      "cell_type": "code",
      "metadata": {
        "colab": {
          "base_uri": "https://localhost:8080/"
        },
        "id": "6ZpiFDaC5xmf",
        "outputId": "aad04d02-073c-45f1-952f-43eac4dfb00c"
      },
      "source": [
        "model3 = Neural_Network3(10,in_size=3072,out_size=10,lr=0.01)\n",
        "train_losses3, test_losses3 = model3.train(train_input, train_target, test_input, test_target, epoch=500)"
      ],
      "execution_count": 151,
      "outputs": [
        {
          "output_type": "stream",
          "text": [
            "Epoch 0 Train Loss: 0.9155088273882865 and Test loss: 0.9031590223312378\n",
            "Epoch 100 Train Loss: 0.5389964988082647 and Test loss: 1.0937432050704956\n",
            "Epoch 200 Train Loss: 0.47013020717725157 and Test loss: 1.1661181449890137\n",
            "Epoch 300 Train Loss: 0.4427118841744959 and Test loss: 1.1810400485992432\n",
            "Epoch 400 Train Loss: 0.4207528204731643 and Test loss: 1.2381848096847534\n"
          ],
          "name": "stdout"
        }
      ]
    },
    {
      "cell_type": "code",
      "metadata": {
        "colab": {
          "base_uri": "https://localhost:8080/"
        },
        "id": "V-R-Hr6f5xrX",
        "outputId": "a06be3e9-c6b3-4e8a-f7a5-d8d129e925ca"
      },
      "source": [
        "pred3 = model3.forward(train_input)[-1]\n",
        "model3.accuracy(pred3, train_target)"
      ],
      "execution_count": 152,
      "outputs": [
        {
          "output_type": "execute_result",
          "data": {
            "text/plain": [
              "0.874"
            ]
          },
          "metadata": {},
          "execution_count": 152
        }
      ]
    },
    {
      "cell_type": "code",
      "metadata": {
        "colab": {
          "base_uri": "https://localhost:8080/"
        },
        "id": "bsxhJDFX5xuh",
        "outputId": "9eae179b-0957-4d66-ec55-af32b90dc20b"
      },
      "source": [
        "pred3 = model3.forward(test_input)[-1]\n",
        "model3.accuracy(pred3, test_target)"
      ],
      "execution_count": 153,
      "outputs": [
        {
          "output_type": "execute_result",
          "data": {
            "text/plain": [
              "0.206"
            ]
          },
          "metadata": {},
          "execution_count": 153
        }
      ]
    },
    {
      "cell_type": "code",
      "metadata": {
        "colab": {
          "base_uri": "https://localhost:8080/",
          "height": 351
        },
        "id": "OsS1_oO9563U",
        "outputId": "5256ec0a-e818-402c-bed3-4c66f8429814"
      },
      "source": [
        "import matplotlib.pyplot as plt\n",
        "\n",
        "plt.figure(figsize=(14,10), dpi = 40)\n",
        "plt.plot(train_losses3)\n",
        "plt.plot(test_losses3)\n",
        "plt.legend([\"Train Loss\",\"Test Loss\"])\n",
        "plt.xlabel(\"Number of Iteration\")\n",
        "plt.ylabel(\"Loss\")\n",
        "plt.title(\"Train Loss vs Test Loss\")\n",
        "plt.show()"
      ],
      "execution_count": 154,
      "outputs": [
        {
          "output_type": "display_data",
          "data": {
            "image/png": "[encoded data removed]",
            "text/plain": [
              "<Figure size 560x400 with 1 Axes>"
            ]
          },
          "metadata": {
            "needs_background": "light"
          }
        }
      ]
    },
    {
      "cell_type": "markdown",
      "metadata": {
        "id": "c1_0k9kC4McB"
      },
      "source": [
        "## 4. Radial Basis Function"
      ]
    },
    {
      "cell_type": "code",
      "metadata": {
        "id": "LxX4U-8CliKU"
      },
      "source": [
        "def Radial(x, a):\n",
        "  e = 0.6\n",
        "  torch.exp(-e*x*x)\n",
        "  np.abs(x - c)\n",
        "  return torch.where(x>0, torch.tanh(x), a*torch.tanh(x))"
      ],
      "execution_count": null,
      "outputs": []
    },
    {
      "cell_type": "code",
      "metadata": {
        "id": "4zADIXynpk5Y"
      },
      "source": [
        "def dtanh(x, a):\n",
        "  t = torch.tanh(x)\n",
        "  return torch.where(x>0, 1-t**2, a*(1-t**2))"
      ],
      "execution_count": null,
      "outputs": []
    },
    {
      "cell_type": "code",
      "metadata": {
        "id": "HmE4TBUU3qlk"
      },
      "source": [
        "e = 0.6 # epsilon\n",
        "\n",
        "def gaussian(x):\n",
        "    return np.exp(-e*x*x)"
      ],
      "execution_count": 45,
      "outputs": []
    },
    {
      "cell_type": "code",
      "metadata": {
        "id": "wCHQJa9UzfK_"
      },
      "source": [
        "#Euclidean norm in R\n",
        "def norm(x, c):\n",
        "    return np.abs(x - c)"
      ],
      "execution_count": 46,
      "outputs": []
    },
    {
      "cell_type": "code",
      "metadata": {
        "colab": {
          "base_uri": "https://localhost:8080/",
          "height": 298
        },
        "id": "ER57OF8d6qq7",
        "outputId": "0eecdeae-3a7c-439c-86cf-af2cf0b01131"
      },
      "source": [
        "c = 0.75\n",
        "w = 2\n",
        "def psi(x):\n",
        "    return f1*gaussian(norm(x, x1))\n",
        "\n",
        "plt.plot(x, psi(x))\n",
        "plt.plot(c, w)\n",
        "\n",
        "plt.title('Radial Basis Function')\n",
        "plt.legend(loc='upper right')\n",
        "plt.show()"
      ],
      "execution_count": 47,
      "outputs": [
        {
          "output_type": "stream",
          "text": [
            "No handles with labels found to put in legend.\n"
          ],
          "name": "stderr"
        },
        {
          "output_type": "display_data",
          "data": {
            "image/png": "[encoded data removed]",
            "text/plain": [
              "<Figure size 432x288 with 1 Axes>"
            ]
          },
          "metadata": {
            "needs_background": "light"
          }
        }
      ]
    },
    {
      "cell_type": "code",
      "metadata": {
        "id": "7WZ6tNW86xfR"
      },
      "source": [
        "class Neural_Network4:\n",
        "  def __init__(self, hidden_size, in_size=3072, out_size=10, lr=0.01, std=1e-6):\n",
        "    self.W1 = torch.randn((in_size, hidden_size)).normal_(0, std)\n",
        "    self.b1 = torch.randn((1,hidden_size)).normal_(0, std)\n",
        "    self.W2 = torch.randn((hidden_size,out_size)).normal_(0, std)\n",
        "    self.b2 = torch.randn((1,out_size)).normal_(0, std)\n",
        "\n",
        "    self.dW1 = torch.zeros((in_size, hidden_size))\n",
        "    self.db1 = torch.zeros((1,hidden_size))\n",
        "    self.dW2 = torch.zeros((hidden_size,out_size))\n",
        "    self.db2 = torch.zeros((1,out_size))\n",
        "\n",
        "    self.lr = lr\n",
        "\n",
        "  def forward(self,x):\n",
        "    x_1 = x @ self.W1 + self.b1\n",
        "    s_1 = tanh(x_1, 0.25)\n",
        "    x_2 = s_1 @ self.W2 + self.b2\n",
        "    out =  tanh(x_2, 0.25)\n",
        "    return x_1, s_1, x_2, out\n",
        "\n",
        "  def backward_pass(self, t, x, s1, x1,s2, x2):\n",
        "    self.dW2 = s1.T @ (dloss(s2,t) * dtanh(x2, 0.25)) \n",
        "    self.db2 = dloss(s2,t) * dtanh(x2, 0.25)\n",
        "    self.dW1 = x.T @ ((dloss(s2,t)*dtanh(x2, 0.25)@ self.W2.T) * dtanh(x1, 0.25))\n",
        "    self.db1 = (dloss(s2,t)*dtanh(x2, 0.25)@ self.W2.T) * dtanh(x1, 0.25)\n",
        "\n",
        "    self.W1 -= self.lr * self.dW1\n",
        "    self.b1 -= self.lr * self.db1\n",
        "    self.W2 -= self.lr * self.dW2\n",
        "    self.b2 -= self.lr * self.db2\n",
        "\n",
        "\n",
        "  def zero_gradient(self):\n",
        "    self.dW1.zero_()\n",
        "    self.db1.zero_()\n",
        "    self.dW2.zero_()\n",
        "    self.db2.zero_()\n",
        "\n",
        "\n",
        "  def train(self, X, y,test_input,test_target,  epoch):\n",
        "    test_losses4 = []\n",
        "    train_losses4 = []\n",
        "    for i in range(epoch):\n",
        "      epoch_loss = 0.0\n",
        "      for j, data in enumerate(X):\n",
        "        ## forward\n",
        "        data = data[None,...]\n",
        "        target = y[j][None,...]\n",
        "        x_1, s_1, x_2, out = self.forward(data)\n",
        "\n",
        "        t = target * 0.9 ##  multiply target by 0.9\n",
        "        epoch_loss += loss(out, t).item() ## loss\n",
        "\n",
        "        ## backward\n",
        "        self.backward_pass(t, data, s_1, x_1, out, x_2)\n",
        "\n",
        "        ## zero gradient\n",
        "        self.zero_gradient()\n",
        "\n",
        "      if i % 100 == 0:\n",
        "        train_loss = loss(model4.forward(test_input)[-1], test_target*0.9)\n",
        "        train_losses4.append(train_loss)\n",
        "        test_losses4.append(train_loss / test_input.shape[0])\n",
        "        print(f'Epoch {i} Train Loss: {epoch_loss/ X.shape[0]} and Test loss: {train_loss / test_input.shape[0]}')\n",
        "    return (train_losses4, test_losses4)\n",
        "\n",
        "  def accuracy(self,pred,target):\n",
        "    pred_ones = torch.argmax(pred, dim=1)\n",
        "    target_ones = torch.nonzero(target)[:, 1]\n",
        "    return ((pred_ones == target_ones).sum().item() / target.shape[0])"
      ],
      "execution_count": null,
      "outputs": []
    },
    {
      "cell_type": "code",
      "metadata": {
        "colab": {
          "base_uri": "https://localhost:8080/"
        },
        "id": "Ik4yq7Sr6xiH",
        "outputId": "e2749312-08c6-406d-b17a-82b22e120a55"
      },
      "source": [
        "model4 = Neural_Network4(50,in_size=3072,out_size=10,lr=0.25)\n",
        "train_losses4, test_losses4 = model4.train(train_input, train_target, test_input, test_target, epoch=500)"
      ],
      "execution_count": null,
      "outputs": [
        {
          "output_type": "stream",
          "text": [
            "Epoch 0 Train Loss: 0.7252363239005208 and Test loss: 0.705921471118927\n",
            "Epoch 100 Train Loss: 0.08047511616535485 and Test loss: 1.0342426300048828\n",
            "Epoch 200 Train Loss: 0.0585998527482152 and Test loss: 1.0978611707687378\n",
            "Epoch 300 Train Loss: 0.05228255919646472 and Test loss: 1.1228859424591064\n",
            "Epoch 400 Train Loss: 0.04690475866105408 and Test loss: 1.1525079011917114\n"
          ],
          "name": "stdout"
        }
      ]
    },
    {
      "cell_type": "code",
      "metadata": {
        "colab": {
          "base_uri": "https://localhost:8080/"
        },
        "id": "N-3axM3E7A9r",
        "outputId": "6bfc8d06-5be4-434a-ce82-48babcf4456c"
      },
      "source": [
        "pred4 = model4.forward(train_input)[-1]\n",
        "model4.accuracy(pred4, train_target)"
      ],
      "execution_count": null,
      "outputs": [
        {
          "output_type": "execute_result",
          "data": {
            "text/plain": [
              "1.0"
            ]
          },
          "metadata": {},
          "execution_count": 127
        }
      ]
    },
    {
      "cell_type": "code",
      "metadata": {
        "colab": {
          "base_uri": "https://localhost:8080/"
        },
        "id": "BU0hc2YL7BC0",
        "outputId": "6bae05e8-4b34-4d55-df54-376301cc6e67"
      },
      "source": [
        "pred4 = model4.forward(test_input)[-1]\n",
        "model4.accuracy(pred4, test_target)"
      ],
      "execution_count": null,
      "outputs": [
        {
          "output_type": "execute_result",
          "data": {
            "text/plain": [
              "0.227"
            ]
          },
          "metadata": {},
          "execution_count": 128
        }
      ]
    },
    {
      "cell_type": "code",
      "metadata": {
        "colab": {
          "base_uri": "https://localhost:8080/",
          "height": 351
        },
        "id": "D5qs7LtH7PDd",
        "outputId": "d1ed4efc-9c23-419d-e4e4-d9873553563b"
      },
      "source": [
        "import matplotlib.pyplot as plt\n",
        "\n",
        "plt.figure(figsize=(14,10), dpi = 40)\n",
        "plt.plot(train_losses4)\n",
        "plt.plot(test_losses4)\n",
        "plt.legend([\"Train Loss\",\"Test Loss\"])\n",
        "plt.xlabel(\"Number of Iteration\")\n",
        "plt.ylabel(\"Loss\")\n",
        "plt.title(\"Train Loss vs Test Loss\")\n",
        "plt.show()"
      ],
      "execution_count": null,
      "outputs": [
        {
          "output_type": "display_data",
          "data": {
            "image/png": "[encoded data removed]",
            "text/plain": [
              "<Figure size 560x400 with 1 Axes>"
            ]
          },
          "metadata": {
            "needs_background": "light"
          }
        }
      ]
    },
    {
      "cell_type": "markdown",
      "metadata": {
        "id": "CVB-ZYDJ5eNP"
      },
      "source": [
        "## 5. Conic Section Function"
      ]
    },
    {
      "cell_type": "code",
      "metadata": {
        "id": "MscshEyr5lsq"
      },
      "source": [
        "def ReLU(x):\n",
        "  return x * torch.where(x>0) "
      ],
      "execution_count": null,
      "outputs": []
    },
    {
      "cell_type": "code",
      "metadata": {
        "id": "9VNsqfu067Qv"
      },
      "source": [
        "def dReLU(x):\n",
        "  return 1 * torch.where(x>0) "
      ],
      "execution_count": null,
      "outputs": []
    },
    {
      "cell_type": "code",
      "metadata": {
        "id": "svGSecCTzp86"
      },
      "source": [
        "z5 = 1/(1 + np.exp(-x))\n",
        "  \n",
        "plt.plot(x, z)\n",
        "plt.xlabel(\"x\")\n",
        "plt.ylabel(\"Sigmoid(X)\")\n",
        "  \n",
        "plt.show()"
      ],
      "execution_count": null,
      "outputs": []
    },
    {
      "cell_type": "code",
      "metadata": {
        "id": "Q95ERGHW6-oE"
      },
      "source": [
        "class Neural_Network5:\n",
        "  def __init__(self, hidden_size, in_size=3072, out_size=10, lr=0.01, std=1e-6):\n",
        "    self.W1 = torch.randn((in_size, hidden_size)).normal_(0, std)\n",
        "    self.b1 = torch.randn((1,hidden_size)).normal_(0, std)\n",
        "    self.W2 = torch.randn((hidden_size,out_size)).normal_(0, std)\n",
        "    self.b2 = torch.randn((1,out_size)).normal_(0, std)\n",
        "\n",
        "    self.dW1 = torch.zeros((in_size, hidden_size))\n",
        "    self.db1 = torch.zeros((1,hidden_size))\n",
        "    self.dW2 = torch.zeros((hidden_size,out_size))\n",
        "    self.db2 = torch.zeros((1,out_size))\n",
        "\n",
        "    self.lr = lr\n",
        "\n",
        "  def forward(self,x):\n",
        "    x_1 = x @ self.W1 + self.b1\n",
        "    s_1 = tanh(x_1, 0.25)\n",
        "    x_2 = s_1 @ self.W2 + self.b2\n",
        "    out =  tanh(x_2, 0.25)\n",
        "    return x_1, s_1, x_2, out\n",
        "\n",
        "  def backward_pass(self, t, x, s1, x1,s2, x2):\n",
        "    self.dW2 = s1.T @ (dloss(s2,t) * dtanh(x2, 0.25)) \n",
        "    self.db2 = dloss(s2,t) * tanh(x2, 0.25)\n",
        "    self.dW1 = x.T @ ((dloss(s2,t)*tanh(x2, 0.25)@ self.W2.T) * tanh(x1, 0.25))\n",
        "    self.db1 = (dloss(s2,t)*tanh(x2, 0.25)@ self.W2.T) * tanh(x1, 0.25)\n",
        "\n",
        "    self.W1 -= self.lr * self.dW1\n",
        "    self.b1 -= self.lr * self.db1\n",
        "    self.W2 -= self.lr * self.dW2\n",
        "    self.b2 -= self.lr * self.db2\n",
        "\n",
        "\n",
        "  def zero_gradient(self):\n",
        "    self.dW1.zero_()\n",
        "    self.db1.zero_()\n",
        "    self.dW2.zero_()\n",
        "    self.db2.zero_()\n",
        "\n",
        "\n",
        "  def train(self, X, y,test_input,test_target,  epoch):\n",
        "    test_losses5 = []\n",
        "    train_losses5 = []\n",
        "    for i in range(epoch):\n",
        "      epoch_loss = 0.0\n",
        "      for j, data in enumerate(X):\n",
        "        ## forward\n",
        "        data = data[None,...]\n",
        "        target = y[j][None,...]\n",
        "        x_1, s_1, x_2, out = self.forward(data)\n",
        "\n",
        "        t = target * 0.9 ##  multiply target by 0.9\n",
        "        epoch_loss += loss(out, t).item() ## loss\n",
        "\n",
        "        ## backward\n",
        "        self.backward_pass(t, data, s_1, x_1, out, x_2)\n",
        "\n",
        "        ## zero gradient\n",
        "        self.zero_gradient()\n",
        "\n",
        "      if i % 100 == 0:\n",
        "        train_loss = loss(model5.forward(test_input)[-1], test_target*0.9)\n",
        "        train_losses5.append(train_loss)\n",
        "        test_losses5.append(train_loss / test_input.shape[0])\n",
        "        print(f'Epoch {i} Train Loss: {epoch_loss/ X.shape[0]} and Test loss: {train_loss / test_input.shape[0]}')\n",
        "    return (train_losses5, test_losses5)\n",
        "\n",
        "  def accuracy(self,pred,target):\n",
        "    pred_ones = torch.argmax(pred, dim=1)\n",
        "    target_ones = torch.nonzero(target)[:, 1]\n",
        "    return ((pred_ones == target_ones).sum().item() / target.shape[0])"
      ],
      "execution_count": null,
      "outputs": []
    },
    {
      "cell_type": "code",
      "metadata": {
        "colab": {
          "base_uri": "https://localhost:8080/"
        },
        "id": "4CfRdHdj6-rF",
        "outputId": "756ca061-f6ca-4fa2-ab5f-32d426074b41"
      },
      "source": [
        "model5 = Neural_Network5(50,in_size=3072,out_size=10,lr=0.25)\n",
        "train_losses5, test_losses5 = model5.train(train_input, train_target, test_input, test_target, epoch=500)"
      ],
      "execution_count": null,
      "outputs": [
        {
          "output_type": "stream",
          "text": [
            "Epoch 0 Train Loss: 0.80999906873703 and Test loss: 0.8099977970123291\n",
            "Epoch 100 Train Loss: 1.189511601984501 and Test loss: 1.1921335458755493\n",
            "Epoch 200 Train Loss: 1.8849999904632568 and Test loss: 1.8849998712539673\n",
            "Epoch 300 Train Loss: 1.8849999904632568 and Test loss: 1.8849998712539673\n",
            "Epoch 400 Train Loss: 1.8849999904632568 and Test loss: 1.8849998712539673\n"
          ],
          "name": "stdout"
        }
      ]
    },
    {
      "cell_type": "code",
      "metadata": {
        "colab": {
          "base_uri": "https://localhost:8080/"
        },
        "id": "AWatoZ8f6-uQ",
        "outputId": "317cad23-4155-4845-8991-cd0f624f4e42"
      },
      "source": [
        "pred5 = model5.forward(train_input)[-1]\n",
        "model5.accuracy(pred5, train_target)"
      ],
      "execution_count": null,
      "outputs": [
        {
          "output_type": "execute_result",
          "data": {
            "text/plain": [
              "0.102"
            ]
          },
          "metadata": {},
          "execution_count": 134
        }
      ]
    },
    {
      "cell_type": "code",
      "metadata": {
        "colab": {
          "base_uri": "https://localhost:8080/"
        },
        "id": "iXmybd4N6-wf",
        "outputId": "0abd272c-3b5f-4a12-e3df-c69cfe201a50"
      },
      "source": [
        "pred5 = model5.forward(test_input)[-1]\n",
        "model5.accuracy(pred5, test_target)"
      ],
      "execution_count": null,
      "outputs": [
        {
          "output_type": "execute_result",
          "data": {
            "text/plain": [
              "0.103"
            ]
          },
          "metadata": {},
          "execution_count": 135
        }
      ]
    },
    {
      "cell_type": "code",
      "metadata": {
        "colab": {
          "base_uri": "https://localhost:8080/",
          "height": 351
        },
        "id": "46i4HCQ26-zT",
        "outputId": "b9552aa2-dcb6-4882-a892-3468d5a8aed1"
      },
      "source": [
        "import matplotlib.pyplot as plt\n",
        "\n",
        "plt.figure(figsize=(14,10), dpi = 40)\n",
        "plt.plot(train_losses5)\n",
        "plt.plot(test_losses5)\n",
        "plt.legend([\"Train Loss\",\"Test Loss\"])\n",
        "plt.xlabel(\"Number of Iteration\")\n",
        "plt.ylabel(\"Loss\")\n",
        "plt.title(\"Train Loss vs Test Loss\")\n",
        "plt.show()"
      ],
      "execution_count": null,
      "outputs": [
        {
          "output_type": "display_data",
          "data": {
            "image/png": "[encoded data removed]",
            "text/plain": [
              "<Figure size 560x400 with 1 Axes>"
            ]
          },
          "metadata": {
            "needs_background": "light"
          }
        }
      ]
    },
    {
      "cell_type": "code",
      "metadata": {
        "id": "PALAXhQobDus"
      },
      "source": [
        ""
      ],
      "execution_count": null,
      "outputs": []
    }
  ]
}